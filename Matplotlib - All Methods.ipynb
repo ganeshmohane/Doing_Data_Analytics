{
 "cells": [
  {
   "cell_type": "markdown",
   "id": "648450c5",
   "metadata": {
    "papermill": {
     "duration": 0.004367,
     "end_time": "2025-08-15T07:29:43.977115",
     "exception": false,
     "start_time": "2025-08-15T07:29:43.972748",
     "status": "completed"
    },
    "tags": []
   },
   "source": [
    "## Matplotlib is a 2D plotting lib for creating static, animated and interactive viz. It's a very basic like we get fine control on every component, on top of this matplotlib lib, seaborn lib is built."
   ]
  },
  {
   "cell_type": "code",
   "execution_count": 1,
   "id": "c95fec72",
   "metadata": {
    "_cell_guid": "b1076dfc-b9ad-4769-8c92-a6c4dae69d19",
    "_uuid": "8f2839f25d086af736a60e9eeb907d3b93b6e0e5",
    "execution": {
     "iopub.execute_input": "2025-08-15T07:29:43.986066Z",
     "iopub.status.busy": "2025-08-15T07:29:43.985338Z",
     "iopub.status.idle": "2025-08-15T07:29:45.666008Z",
     "shell.execute_reply": "2025-08-15T07:29:45.665128Z"
    },
    "papermill": {
     "duration": 1.686792,
     "end_time": "2025-08-15T07:29:45.667660",
     "exception": false,
     "start_time": "2025-08-15T07:29:43.980868",
     "status": "completed"
    },
    "tags": []
   },
   "outputs": [],
   "source": [
    "import matplotlib.pyplot as plt\n",
    "import pandas as pd"
   ]
  },
  {
   "cell_type": "markdown",
   "id": "7990f07c",
   "metadata": {
    "papermill": {
     "duration": 0.003177,
     "end_time": "2025-08-15T07:29:45.674543",
     "exception": false,
     "start_time": "2025-08-15T07:29:45.671366",
     "status": "completed"
    },
    "tags": []
   },
   "source": [
    "# Graphs\n",
    "\n",
    " - Line chart (plt.plot)\n",
    "\n",
    " - Bar chart (plt.bar)\n",
    "\n",
    " - Horizontal bar chart (plt.barh)\n",
    "\n",
    " - Scatter plot (plt.scatter)\n",
    "\n",
    "- Histogram (plt.hist)\n",
    "\n",
    "- Box plot (plt.boxplot)\n",
    "\n",
    "-  Violin plot (plt.violinplot)\n",
    "\n",
    "- Area chart (stacked or filled line, plt.fill_between)\n",
    "\n",
    "- Pie chart (plt.pie)\n",
    "\n",
    "- Stem plot (plt.stem)\n",
    "\n",
    "- Stack plot (plt.stackplot)\n",
    "\n",
    "- Step plot (plt.step)\n",
    "\n",
    "- Polar plot (plt.polar)\n",
    "\n",
    "- Heatmap (using imshow or matshow)"
   ]
  },
  {
   "cell_type": "code",
   "execution_count": 2,
   "id": "ddf9e8e2",
   "metadata": {
    "execution": {
     "iopub.execute_input": "2025-08-15T07:29:45.682596Z",
     "iopub.status.busy": "2025-08-15T07:29:45.681901Z",
     "iopub.status.idle": "2025-08-15T07:29:45.835677Z",
     "shell.execute_reply": "2025-08-15T07:29:45.834905Z"
    },
    "papermill": {
     "duration": 0.159406,
     "end_time": "2025-08-15T07:29:45.837208",
     "exception": false,
     "start_time": "2025-08-15T07:29:45.677802",
     "status": "completed"
    },
    "tags": []
   },
   "outputs": [
    {
     "data": {
      "text/html": [
       "<div>\n",
       "<style scoped>\n",
       "    .dataframe tbody tr th:only-of-type {\n",
       "        vertical-align: middle;\n",
       "    }\n",
       "\n",
       "    .dataframe tbody tr th {\n",
       "        vertical-align: top;\n",
       "    }\n",
       "\n",
       "    .dataframe thead th {\n",
       "        text-align: right;\n",
       "    }\n",
       "</style>\n",
       "<table border=\"1\" class=\"dataframe\">\n",
       "  <thead>\n",
       "    <tr style=\"text-align: right;\">\n",
       "      <th></th>\n",
       "      <th>show_id</th>\n",
       "      <th>type</th>\n",
       "      <th>title</th>\n",
       "      <th>director</th>\n",
       "      <th>cast</th>\n",
       "      <th>country</th>\n",
       "      <th>date_added</th>\n",
       "      <th>release_year</th>\n",
       "      <th>rating</th>\n",
       "      <th>duration</th>\n",
       "      <th>listed_in</th>\n",
       "      <th>description</th>\n",
       "    </tr>\n",
       "  </thead>\n",
       "  <tbody>\n",
       "    <tr>\n",
       "      <th>0</th>\n",
       "      <td>s1</td>\n",
       "      <td>Movie</td>\n",
       "      <td>Dick Johnson Is Dead</td>\n",
       "      <td>Kirsten Johnson</td>\n",
       "      <td>NaN</td>\n",
       "      <td>United States</td>\n",
       "      <td>September 25, 2021</td>\n",
       "      <td>2020</td>\n",
       "      <td>PG-13</td>\n",
       "      <td>90 min</td>\n",
       "      <td>Documentaries</td>\n",
       "      <td>As her father nears the end of his life, filmm...</td>\n",
       "    </tr>\n",
       "    <tr>\n",
       "      <th>1</th>\n",
       "      <td>s2</td>\n",
       "      <td>TV Show</td>\n",
       "      <td>Blood &amp; Water</td>\n",
       "      <td>NaN</td>\n",
       "      <td>Ama Qamata, Khosi Ngema, Gail Mabalane, Thaban...</td>\n",
       "      <td>South Africa</td>\n",
       "      <td>September 24, 2021</td>\n",
       "      <td>2021</td>\n",
       "      <td>TV-MA</td>\n",
       "      <td>2 Seasons</td>\n",
       "      <td>International TV Shows, TV Dramas, TV Mysteries</td>\n",
       "      <td>After crossing paths at a party, a Cape Town t...</td>\n",
       "    </tr>\n",
       "    <tr>\n",
       "      <th>2</th>\n",
       "      <td>s3</td>\n",
       "      <td>TV Show</td>\n",
       "      <td>Ganglands</td>\n",
       "      <td>Julien Leclercq</td>\n",
       "      <td>Sami Bouajila, Tracy Gotoas, Samuel Jouy, Nabi...</td>\n",
       "      <td>NaN</td>\n",
       "      <td>September 24, 2021</td>\n",
       "      <td>2021</td>\n",
       "      <td>TV-MA</td>\n",
       "      <td>1 Season</td>\n",
       "      <td>Crime TV Shows, International TV Shows, TV Act...</td>\n",
       "      <td>To protect his family from a powerful drug lor...</td>\n",
       "    </tr>\n",
       "    <tr>\n",
       "      <th>3</th>\n",
       "      <td>s4</td>\n",
       "      <td>TV Show</td>\n",
       "      <td>Jailbirds New Orleans</td>\n",
       "      <td>NaN</td>\n",
       "      <td>NaN</td>\n",
       "      <td>NaN</td>\n",
       "      <td>September 24, 2021</td>\n",
       "      <td>2021</td>\n",
       "      <td>TV-MA</td>\n",
       "      <td>1 Season</td>\n",
       "      <td>Docuseries, Reality TV</td>\n",
       "      <td>Feuds, flirtations and toilet talk go down amo...</td>\n",
       "    </tr>\n",
       "    <tr>\n",
       "      <th>4</th>\n",
       "      <td>s5</td>\n",
       "      <td>TV Show</td>\n",
       "      <td>Kota Factory</td>\n",
       "      <td>NaN</td>\n",
       "      <td>Mayur More, Jitendra Kumar, Ranjan Raj, Alam K...</td>\n",
       "      <td>India</td>\n",
       "      <td>September 24, 2021</td>\n",
       "      <td>2021</td>\n",
       "      <td>TV-MA</td>\n",
       "      <td>2 Seasons</td>\n",
       "      <td>International TV Shows, Romantic TV Shows, TV ...</td>\n",
       "      <td>In a city of coaching centers known to train I...</td>\n",
       "    </tr>\n",
       "  </tbody>\n",
       "</table>\n",
       "</div>"
      ],
      "text/plain": [
       "  show_id     type                  title         director  \\\n",
       "0      s1    Movie   Dick Johnson Is Dead  Kirsten Johnson   \n",
       "1      s2  TV Show          Blood & Water              NaN   \n",
       "2      s3  TV Show              Ganglands  Julien Leclercq   \n",
       "3      s4  TV Show  Jailbirds New Orleans              NaN   \n",
       "4      s5  TV Show           Kota Factory              NaN   \n",
       "\n",
       "                                                cast        country  \\\n",
       "0                                                NaN  United States   \n",
       "1  Ama Qamata, Khosi Ngema, Gail Mabalane, Thaban...   South Africa   \n",
       "2  Sami Bouajila, Tracy Gotoas, Samuel Jouy, Nabi...            NaN   \n",
       "3                                                NaN            NaN   \n",
       "4  Mayur More, Jitendra Kumar, Ranjan Raj, Alam K...          India   \n",
       "\n",
       "           date_added  release_year rating   duration  \\\n",
       "0  September 25, 2021          2020  PG-13     90 min   \n",
       "1  September 24, 2021          2021  TV-MA  2 Seasons   \n",
       "2  September 24, 2021          2021  TV-MA   1 Season   \n",
       "3  September 24, 2021          2021  TV-MA   1 Season   \n",
       "4  September 24, 2021          2021  TV-MA  2 Seasons   \n",
       "\n",
       "                                           listed_in  \\\n",
       "0                                      Documentaries   \n",
       "1    International TV Shows, TV Dramas, TV Mysteries   \n",
       "2  Crime TV Shows, International TV Shows, TV Act...   \n",
       "3                             Docuseries, Reality TV   \n",
       "4  International TV Shows, Romantic TV Shows, TV ...   \n",
       "\n",
       "                                         description  \n",
       "0  As her father nears the end of his life, filmm...  \n",
       "1  After crossing paths at a party, a Cape Town t...  \n",
       "2  To protect his family from a powerful drug lor...  \n",
       "3  Feuds, flirtations and toilet talk go down amo...  \n",
       "4  In a city of coaching centers known to train I...  "
      ]
     },
     "execution_count": 2,
     "metadata": {},
     "output_type": "execute_result"
    }
   ],
   "source": [
    "df = pd.read_csv('/kaggle/input/netflix-shows/netflix_titles.csv')\n",
    "df.head()"
   ]
  },
  {
   "cell_type": "markdown",
   "id": "eec65e42",
   "metadata": {
    "papermill": {
     "duration": 0.003419,
     "end_time": "2025-08-15T07:29:45.844551",
     "exception": false,
     "start_time": "2025-08-15T07:29:45.841132",
     "status": "completed"
    },
    "tags": []
   },
   "source": [
    "## Line: \n",
    "- Show trends over time or continuous data (e.g., monthly viewer count).\n",
    "- syntax:  \n",
    "    ```python\n",
    "    plt.plot(x_values, y_values, marker='o', color='optional_color')\n",
    "    ```"
   ]
  },
  {
   "cell_type": "code",
   "execution_count": 3,
   "id": "567da1f0",
   "metadata": {
    "execution": {
     "iopub.execute_input": "2025-08-15T07:29:45.853158Z",
     "iopub.status.busy": "2025-08-15T07:29:45.852415Z",
     "iopub.status.idle": "2025-08-15T07:29:46.175953Z",
     "shell.execute_reply": "2025-08-15T07:29:46.175117Z"
    },
    "papermill": {
     "duration": 0.329408,
     "end_time": "2025-08-15T07:29:46.177521",
     "exception": false,
     "start_time": "2025-08-15T07:29:45.848113",
     "status": "completed"
    },
    "tags": []
   },
   "outputs": [
    {
     "data": {
      "image/png": "[encoded data removed]",
      "text/plain": [
       "<Figure size 640x480 with 1 Axes>"
      ]
     },
     "metadata": {},
     "output_type": "display_data"
    }
   ],
   "source": [
    "# Line Plot\n",
    "\n",
    "year_wise_shows = df.groupby('release_year')['show_id'].count()\n",
    "\n",
    "plt.plot(year_wise_shows, color='red')\n",
    "plt.title('Year wise movies-shows frequency')\n",
    "plt.xlabel('Year')\n",
    "plt.ylabel('No of Shows(Movies-Tv Shows')\n",
    "plt.legend()\n",
    "plt.show()"
   ]
  },
  {
   "cell_type": "markdown",
   "id": "fa357a94",
   "metadata": {
    "papermill": {
     "duration": 0.003987,
     "end_time": "2025-08-15T07:29:46.186077",
     "exception": false,
     "start_time": "2025-08-15T07:29:46.182090",
     "status": "completed"
    },
    "tags": []
   },
   "source": [
    "## Bar: \n",
    "\n",
    "1. vertical bar: use when want to show comparisons.\n",
    "- syntax:\n",
    "  ```python\n",
    "    plt.bar(categories, values, color=colors)\n",
    "  ```\n",
    "\n",
    "2. horizontal bar: use when labels are long\n",
    "- syntax:\n",
    "  ```python\n",
    "    plt.barh(categories, values, color=colors)\n",
    "  ```"
   ]
  },
  {
   "cell_type": "code",
   "execution_count": 4,
   "id": "b6d6beb1",
   "metadata": {
    "execution": {
     "iopub.execute_input": "2025-08-15T07:29:46.195432Z",
     "iopub.status.busy": "2025-08-15T07:29:46.194699Z",
     "iopub.status.idle": "2025-08-15T07:29:46.321532Z",
     "shell.execute_reply": "2025-08-15T07:29:46.320691Z"
    },
    "papermill": {
     "duration": 0.132941,
     "end_time": "2025-08-15T07:29:46.322951",
     "exception": false,
     "start_time": "2025-08-15T07:29:46.190010",
     "status": "completed"
    },
    "tags": []
   },
   "outputs": [
    {
     "data": {
      "image/png": "[encoded data removed]",
      "text/plain": [
       "<Figure size 640x480 with 1 Axes>"
      ]
     },
     "metadata": {},
     "output_type": "display_data"
    }
   ],
   "source": [
    "# bar graph\n",
    "count_values = df['type'].value_counts()\n",
    "colors = ['green','orange']\n",
    "\n",
    "plt.bar(count_values.index, count_values.values, color=colors)\n",
    "# plt.barh(count_values.index, count_values.values, color=colors) update xlabel and ylabel for this\n",
    "plt.title(\"Movie vs TV\")\n",
    "plt.xlabel(\"Type\")\n",
    "plt.ylabel('Count')\n",
    "plt.show()"
   ]
  },
  {
   "cell_type": "markdown",
   "id": "80bf8772",
   "metadata": {
    "papermill": {
     "duration": 0.004239,
     "end_time": "2025-08-15T07:29:46.332046",
     "exception": false,
     "start_time": "2025-08-15T07:29:46.327807",
     "status": "completed"
    },
    "tags": []
   },
   "source": [
    "## Pie: Use when want to show portion/percentage in whole thing\n",
    "- syntax:\n",
    "  ```python\n",
    "  plt.pie(sizes, labels=labels, colors=colors, autopct='%1.1f%%', startangle=90)\n",
    "  ```\n",
    "- autopct: converts count to percentage automatically"
   ]
  },
  {
   "cell_type": "code",
   "execution_count": 5,
   "id": "af73e955",
   "metadata": {
    "execution": {
     "iopub.execute_input": "2025-08-15T07:29:46.343208Z",
     "iopub.status.busy": "2025-08-15T07:29:46.342361Z",
     "iopub.status.idle": "2025-08-15T07:29:46.434569Z",
     "shell.execute_reply": "2025-08-15T07:29:46.433747Z"
    },
    "papermill": {
     "duration": 0.099946,
     "end_time": "2025-08-15T07:29:46.436295",
     "exception": false,
     "start_time": "2025-08-15T07:29:46.336349",
     "status": "completed"
    },
    "tags": []
   },
   "outputs": [
    {
     "data": {
      "image/png": "[encoded data removed]",
      "text/plain": [
       "<Figure size 640x480 with 1 Axes>"
      ]
     },
     "metadata": {},
     "output_type": "display_data"
    }
   ],
   "source": [
    "# pie\n",
    "colors = ['yellow', 'white']\n",
    "\n",
    "values_counts = df['type'].value_counts()\n",
    "\n",
    "plt.pie(values_counts, labels=values_counts.index, colors=colors, autopct='%1.1f%%', startangle=50)\n",
    "plt.title('Movies VS TVShows')\n",
    "plt.show()"
   ]
  },
  {
   "cell_type": "markdown",
   "id": "f465ae92",
   "metadata": {
    "papermill": {
     "duration": 0.004793,
     "end_time": "2025-08-15T07:29:46.448324",
     "exception": false,
     "start_time": "2025-08-15T07:29:46.443531",
     "status": "completed"
    },
    "tags": []
   },
   "source": [
    "## Histogram: Instead of plotting individual points, it groups data into intervals and counts how many values fall into each interval. It shows data distribution like normal or skewed(right-left)\n",
    "- syntax:\n",
    "  ```python\n",
    "  plt.hist(data, bins=5, color='skyblue', edgecolor='black')\n",
    "  ```"
   ]
  },
  {
   "cell_type": "code",
   "execution_count": 6,
   "id": "5d77cacc",
   "metadata": {
    "execution": {
     "iopub.execute_input": "2025-08-15T07:29:46.460515Z",
     "iopub.status.busy": "2025-08-15T07:29:46.459733Z",
     "iopub.status.idle": "2025-08-15T07:29:46.684272Z",
     "shell.execute_reply": "2025-08-15T07:29:46.683489Z"
    },
    "papermill": {
     "duration": 0.23178,
     "end_time": "2025-08-15T07:29:46.685642",
     "exception": false,
     "start_time": "2025-08-15T07:29:46.453862",
     "status": "completed"
    },
    "tags": []
   },
   "outputs": [
    {
     "data": {
      "image/png": "[encoded data removed]",
      "text/plain": [
       "<Figure size 640x480 with 1 Axes>"
      ]
     },
     "metadata": {},
     "output_type": "display_data"
    }
   ],
   "source": [
    "plt.hist(df['release_year'], bins=100, color='skyblue', edgecolor='black')\n",
    "plt.show()"
   ]
  },
  {
   "cell_type": "markdown",
   "id": "1282b4a7",
   "metadata": {
    "papermill": {
     "duration": 0.004842,
     "end_time": "2025-08-15T07:29:46.695728",
     "exception": false,
     "start_time": "2025-08-15T07:29:46.690886",
     "status": "completed"
    },
    "tags": []
   },
   "source": [
    "As we can see above the data distribution is left-skewed"
   ]
  },
  {
   "cell_type": "markdown",
   "id": "cc57bcb2",
   "metadata": {
    "papermill": {
     "duration": 0.004851,
     "end_time": "2025-08-15T07:29:46.705617",
     "exception": false,
     "start_time": "2025-08-15T07:29:46.700766",
     "status": "completed"
    },
    "tags": []
   },
   "source": [
    "## BoxPlot: It is used to see outliers and data distribution, It used Q1(0.25), Q3(.75) and Lower bound - Upper bound to tell which are outliers\n",
    "- syntax:\n",
    "  ```python\n",
    "  sns.boxplot(x='column_name', data=df)\n",
    "  ```"
   ]
  },
  {
   "cell_type": "code",
   "execution_count": 7,
   "id": "106c0cdc",
   "metadata": {
    "execution": {
     "iopub.execute_input": "2025-08-15T07:29:46.716932Z",
     "iopub.status.busy": "2025-08-15T07:29:46.716379Z",
     "iopub.status.idle": "2025-08-15T07:29:48.439346Z",
     "shell.execute_reply": "2025-08-15T07:29:48.438660Z"
    },
    "papermill": {
     "duration": 1.730345,
     "end_time": "2025-08-15T07:29:48.440898",
     "exception": false,
     "start_time": "2025-08-15T07:29:46.710553",
     "status": "completed"
    },
    "tags": []
   },
   "outputs": [],
   "source": [
    "import seaborn as sns"
   ]
  },
  {
   "cell_type": "code",
   "execution_count": 8,
   "id": "570a646e",
   "metadata": {
    "execution": {
     "iopub.execute_input": "2025-08-15T07:29:48.453089Z",
     "iopub.status.busy": "2025-08-15T07:29:48.452294Z",
     "iopub.status.idle": "2025-08-15T07:29:48.567222Z",
     "shell.execute_reply": "2025-08-15T07:29:48.566338Z"
    },
    "papermill": {
     "duration": 0.122455,
     "end_time": "2025-08-15T07:29:48.568716",
     "exception": false,
     "start_time": "2025-08-15T07:29:48.446261",
     "status": "completed"
    },
    "tags": []
   },
   "outputs": [
    {
     "data": {
      "text/plain": [
       "<Axes: xlabel='release_year'>"
      ]
     },
     "execution_count": 8,
     "metadata": {},
     "output_type": "execute_result"
    },
    {
     "data": {
      "image/png": "[encoded data removed]",
      "text/plain": [
       "<Figure size 640x480 with 1 Axes>"
      ]
     },
     "metadata": {},
     "output_type": "display_data"
    }
   ],
   "source": [
    "sns.boxplot(x=df['release_year'], data=df)"
   ]
  },
  {
   "cell_type": "markdown",
   "id": "a467328f",
   "metadata": {
    "papermill": {
     "duration": 0.005073,
     "end_time": "2025-08-15T07:29:48.579547",
     "exception": false,
     "start_time": "2025-08-15T07:29:48.574474",
     "status": "completed"
    },
    "tags": []
   },
   "source": [
    "## ViolinPlot:\n",
    "- Combines boxplot + kernel density plot (shows distribution shape).\n",
    "\n",
    "- Shows where the data is thick (common values) or thin (rare values).\n",
    "\n",
    "- Symmetrical “violin” shape around median.\n",
    "\n",
    "- Better than boxplot for distribution shape + outlier density.\n",
    "\n",
    "- syntax:\n",
    "  ```python\n",
    "  sns.violinplot(x='column_name', data=df)\n",
    "  ```"
   ]
  },
  {
   "cell_type": "code",
   "execution_count": 9,
   "id": "dfcff77f",
   "metadata": {
    "execution": {
     "iopub.execute_input": "2025-08-15T07:29:48.591438Z",
     "iopub.status.busy": "2025-08-15T07:29:48.590797Z",
     "iopub.status.idle": "2025-08-15T07:29:48.786529Z",
     "shell.execute_reply": "2025-08-15T07:29:48.785611Z"
    },
    "papermill": {
     "duration": 0.203044,
     "end_time": "2025-08-15T07:29:48.787785",
     "exception": false,
     "start_time": "2025-08-15T07:29:48.584741",
     "status": "completed"
    },
    "tags": []
   },
   "outputs": [
    {
     "data": {
      "text/plain": [
       "<Axes: xlabel='release_year'>"
      ]
     },
     "execution_count": 9,
     "metadata": {},
     "output_type": "execute_result"
    },
    {
     "data": {
      "image/png": "[encoded data removed]",
      "text/plain": [
       "<Figure size 640x480 with 1 Axes>"
      ]
     },
     "metadata": {},
     "output_type": "display_data"
    }
   ],
   "source": [
    "sns.violinplot(x=df['release_year'], data=df)"
   ]
  },
  {
   "cell_type": "markdown",
   "id": "9843c17e",
   "metadata": {
    "papermill": {
     "duration": 0.005586,
     "end_time": "2025-08-15T07:29:48.799309",
     "exception": false,
     "start_time": "2025-08-15T07:29:48.793723",
     "status": "completed"
    },
    "tags": []
   },
   "source": [
    "## Heatmap: It tells u the which variables are correlated with other and how much stringly\n",
    "- works for numerical data only\n",
    "- syntax:\n",
    "  ```python\n",
    "  sns.heatmap(data)\n",
    "  ```"
   ]
  },
  {
   "cell_type": "code",
   "execution_count": 10,
   "id": "4ea2fdfe",
   "metadata": {
    "execution": {
     "iopub.execute_input": "2025-08-15T07:29:48.812188Z",
     "iopub.status.busy": "2025-08-15T07:29:48.811466Z",
     "iopub.status.idle": "2025-08-15T07:29:48.820284Z",
     "shell.execute_reply": "2025-08-15T07:29:48.819603Z"
    },
    "papermill": {
     "duration": 0.016473,
     "end_time": "2025-08-15T07:29:48.821500",
     "exception": false,
     "start_time": "2025-08-15T07:29:48.805027",
     "status": "completed"
    },
    "tags": []
   },
   "outputs": [],
   "source": [
    "import numpy as np\n",
    "import pandas as pd\n",
    "\n",
    "np.random.seed(42)\n",
    "\n",
    "df = pd.DataFrame({\n",
    "    'A':np.random.randint(10,100,5),\n",
    "    'B':np.random.randint(20,200,5),\n",
    "    'C': np.random.randint(5, 50, 5),\n",
    "    'D': np.random.randint(1, 10, 5),\n",
    "    'E': np.random.randint(0, 500, 5),\n",
    "    'Category': ['X', 'Y', 'X', 'Z', 'Y']\n",
    "})\n",
    "\n",
    "numeric_df = df.select_dtypes('int64')\n",
    "corr = numeric_df.corr()"
   ]
  },
  {
   "cell_type": "code",
   "execution_count": 11,
   "id": "0601ce21",
   "metadata": {
    "execution": {
     "iopub.execute_input": "2025-08-15T07:29:48.834307Z",
     "iopub.status.busy": "2025-08-15T07:29:48.833628Z",
     "iopub.status.idle": "2025-08-15T07:29:49.042079Z",
     "shell.execute_reply": "2025-08-15T07:29:49.041353Z"
    },
    "papermill": {
     "duration": 0.216263,
     "end_time": "2025-08-15T07:29:49.043567",
     "exception": false,
     "start_time": "2025-08-15T07:29:48.827304",
     "status": "completed"
    },
    "tags": []
   },
   "outputs": [
    {
     "data": {
      "text/plain": [
       "<Axes: >"
      ]
     },
     "execution_count": 11,
     "metadata": {},
     "output_type": "execute_result"
    },
    {
     "data": {
      "image/png": "[encoded data removed]",
      "text/plain": [
       "<Figure size 640x480 with 2 Axes>"
      ]
     },
     "metadata": {},
     "output_type": "display_data"
    }
   ],
   "source": [
    "sns.heatmap(corr)"
   ]
  }
 ],
 "metadata": {
  "kaggle": {
   "accelerator": "none",
   "dataSources": [
    {
     "datasetId": 434238,
     "sourceId": 2654038,
     "sourceType": "datasetVersion"
    }
   ],
   "dockerImageVersionId": 31089,
   "isGpuEnabled": false,
   "isInternetEnabled": true,
   "language": "python",
   "sourceType": "notebook"
  },
  "kernelspec": {
   "display_name": "Python 3",
   "language": "python",
   "name": "python3"
  },
  "language_info": {
   "codemirror_mode": {
    "name": "ipython",
    "version": 3
   },
   "file_extension": ".py",
   "mimetype": "text/x-python",
   "name": "python",
   "nbconvert_exporter": "python",
   "pygments_lexer": "ipython3",
   "version": "3.11.13"
  },
  "papermill": {
   "default_parameters": {},
   "duration": 10.177056,
   "end_time": "2025-08-15T07:29:49.669023",
   "environment_variables": {},
   "exception": null,
   "input_path": "__notebook__.ipynb",
   "output_path": "__notebook__.ipynb",
   "parameters": {},
   "start_time": "2025-08-15T07:29:39.491967",
   "version": "2.6.0"
  }
 },
 "nbformat": 4,
 "nbformat_minor": 5
}
