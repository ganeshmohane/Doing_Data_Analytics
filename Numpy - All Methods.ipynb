{
 "cells": [
  {
   "cell_type": "markdown",
   "id": "84d8a56d",
   "metadata": {
    "papermill": {
     "duration": 0.002728,
     "end_time": "2025-08-30T05:31:39.215297",
     "exception": false,
     "start_time": "2025-08-30T05:31:39.212569",
     "status": "completed"
    },
    "tags": []
   },
   "source": [
    "## Numpy Stands for Numerical Python\n",
    "Python has actually a list but it is very slow thats why numpy arrays used which are 50x faster than list. "
   ]
  },
  {
   "cell_type": "code",
   "execution_count": 1,
   "id": "923c3415",
   "metadata": {
    "_cell_guid": "b1076dfc-b9ad-4769-8c92-a6c4dae69d19",
    "_uuid": "8f2839f25d086af736a60e9eeb907d3b93b6e0e5",
    "execution": {
     "iopub.execute_input": "2025-08-30T05:31:39.221446Z",
     "iopub.status.busy": "2025-08-30T05:31:39.221103Z",
     "iopub.status.idle": "2025-08-30T05:31:39.230096Z",
     "shell.execute_reply": "2025-08-30T05:31:39.229176Z"
    },
    "papermill": {
     "duration": 0.013713,
     "end_time": "2025-08-30T05:31:39.231740",
     "exception": false,
     "start_time": "2025-08-30T05:31:39.218027",
     "status": "completed"
    },
    "tags": []
   },
   "outputs": [],
   "source": [
    "import numpy as np"
   ]
  },
  {
   "cell_type": "code",
   "execution_count": 2,
   "id": "e5fefa61",
   "metadata": {
    "execution": {
     "iopub.execute_input": "2025-08-30T05:31:39.237554Z",
     "iopub.status.busy": "2025-08-30T05:31:39.237228Z",
     "iopub.status.idle": "2025-08-30T05:31:39.248496Z",
     "shell.execute_reply": "2025-08-30T05:31:39.247486Z"
    },
    "papermill": {
     "duration": 0.015805,
     "end_time": "2025-08-30T05:31:39.249880",
     "exception": false,
     "start_time": "2025-08-30T05:31:39.234075",
     "status": "completed"
    },
    "tags": []
   },
   "outputs": [
    {
     "name": "stdout",
     "output_type": "stream",
     "text": [
      "[ 1  2  3  4 50] <class 'numpy.ndarray'> (3, 2)\n"
     ]
    }
   ],
   "source": [
    "# create arr\n",
    "arr = np.array([1,2,3,4,50])\n",
    "arr2 = np.array([[1,2],[2,3],[4,5]])\n",
    "print(arr, type(arr), arr2.shape)"
   ]
  },
  {
   "cell_type": "code",
   "execution_count": 3,
   "id": "d495840a",
   "metadata": {
    "execution": {
     "iopub.execute_input": "2025-08-30T05:31:39.256081Z",
     "iopub.status.busy": "2025-08-30T05:31:39.255237Z",
     "iopub.status.idle": "2025-08-30T05:31:39.261183Z",
     "shell.execute_reply": "2025-08-30T05:31:39.260229Z"
    },
    "papermill": {
     "duration": 0.010371,
     "end_time": "2025-08-30T05:31:39.262566",
     "exception": false,
     "start_time": "2025-08-30T05:31:39.252195",
     "status": "completed"
    },
    "tags": []
   },
   "outputs": [
    {
     "name": "stdout",
     "output_type": "stream",
     "text": [
      "[[0. 0.]\n",
      " [0. 0.]] [[1. 1.]\n",
      " [1. 1.]]\n"
     ]
    }
   ],
   "source": [
    "zeros_array = np.zeros((2,2))\n",
    "\n",
    "ones_array = np.ones((2,2))\n",
    "print(zeros_array, ones_array)\n",
    "\n"
   ]
  },
  {
   "cell_type": "code",
   "execution_count": 4,
   "id": "b013d41c",
   "metadata": {
    "execution": {
     "iopub.execute_input": "2025-08-30T05:31:39.268379Z",
     "iopub.status.busy": "2025-08-30T05:31:39.268079Z",
     "iopub.status.idle": "2025-08-30T05:31:39.272885Z",
     "shell.execute_reply": "2025-08-30T05:31:39.271948Z"
    },
    "papermill": {
     "duration": 0.009395,
     "end_time": "2025-08-30T05:31:39.274286",
     "exception": false,
     "start_time": "2025-08-30T05:31:39.264891",
     "status": "completed"
    },
    "tags": []
   },
   "outputs": [
    {
     "name": "stdout",
     "output_type": "stream",
     "text": [
      "[1 2]\n"
     ]
    }
   ],
   "source": [
    "print(arr2[0,:])"
   ]
  },
  {
   "cell_type": "code",
   "execution_count": 5,
   "id": "92d35b1c",
   "metadata": {
    "execution": {
     "iopub.execute_input": "2025-08-30T05:31:39.280144Z",
     "iopub.status.busy": "2025-08-30T05:31:39.279514Z",
     "iopub.status.idle": "2025-08-30T05:31:39.285432Z",
     "shell.execute_reply": "2025-08-30T05:31:39.284545Z"
    },
    "papermill": {
     "duration": 0.010179,
     "end_time": "2025-08-30T05:31:39.286812",
     "exception": false,
     "start_time": "2025-08-30T05:31:39.276633",
     "status": "completed"
    },
    "tags": []
   },
   "outputs": [
    {
     "name": "stdout",
     "output_type": "stream",
     "text": [
      "[[ 1  4]\n",
      " [ 4  9]\n",
      " [16 25]]\n"
     ]
    }
   ],
   "source": [
    "print(arr2**2)"
   ]
  },
  {
   "cell_type": "code",
   "execution_count": 6,
   "id": "e222458c",
   "metadata": {
    "execution": {
     "iopub.execute_input": "2025-08-30T05:31:39.293731Z",
     "iopub.status.busy": "2025-08-30T05:31:39.292569Z",
     "iopub.status.idle": "2025-08-30T05:31:39.298213Z",
     "shell.execute_reply": "2025-08-30T05:31:39.297303Z"
    },
    "papermill": {
     "duration": 0.010127,
     "end_time": "2025-08-30T05:31:39.299549",
     "exception": false,
     "start_time": "2025-08-30T05:31:39.289422",
     "status": "completed"
    },
    "tags": []
   },
   "outputs": [
    {
     "name": "stdout",
     "output_type": "stream",
     "text": [
      "[[1 2 4]\n",
      " [2 3 5]]\n"
     ]
    }
   ],
   "source": [
    "print(arr2.transpose())"
   ]
  },
  {
   "cell_type": "code",
   "execution_count": 7,
   "id": "5168d1b2",
   "metadata": {
    "execution": {
     "iopub.execute_input": "2025-08-30T05:31:39.305431Z",
     "iopub.status.busy": "2025-08-30T05:31:39.305138Z",
     "iopub.status.idle": "2025-08-30T05:31:39.311092Z",
     "shell.execute_reply": "2025-08-30T05:31:39.310276Z"
    },
    "papermill": {
     "duration": 0.010545,
     "end_time": "2025-08-30T05:31:39.312526",
     "exception": false,
     "start_time": "2025-08-30T05:31:39.301981",
     "status": "completed"
    },
    "tags": []
   },
   "outputs": [
    {
     "name": "stdout",
     "output_type": "stream",
     "text": [
      "12.0 3.0\n"
     ]
    }
   ],
   "source": [
    "print(arr.mean(), np.median(arr))"
   ]
  }
 ],
 "metadata": {
  "kaggle": {
   "accelerator": "none",
   "dataSources": [],
   "dockerImageVersionId": 31089,
   "isGpuEnabled": false,
   "isInternetEnabled": true,
   "language": "python",
   "sourceType": "notebook"
  },
  "kernelspec": {
   "display_name": "Python 3",
   "language": "python",
   "name": "python3"
  },
  "language_info": {
   "codemirror_mode": {
    "name": "ipython",
    "version": 3
   },
   "file_extension": ".py",
   "mimetype": "text/x-python",
   "name": "python",
   "nbconvert_exporter": "python",
   "pygments_lexer": "ipython3",
   "version": "3.11.13"
  },
  "papermill": {
   "default_parameters": {},
   "duration": 5.889976,
   "end_time": "2025-08-30T05:31:39.733539",
   "environment_variables": {},
   "exception": null,
   "input_path": "__notebook__.ipynb",
   "output_path": "__notebook__.ipynb",
   "parameters": {},
   "start_time": "2025-08-30T05:31:33.843563",
   "version": "2.6.0"
  }
 },
 "nbformat": 4,
 "nbformat_minor": 5
}
